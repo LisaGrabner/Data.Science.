{
 "cells": [
  {
   "cell_type": "markdown",
   "id": "559e2b31-673e-4f5e-8ef3-ac4e1b1ae8b0",
   "metadata": {},
   "source": [
    "# Data Science Tools and Ecosystem"
   ]
  },
  {
   "cell_type": "markdown",
   "id": "4ae8c946-448f-4528-add8-c69e26d141d9",
   "metadata": {},
   "source": [
    "In this notebook, Data Science Tools and Ecosystem are summarized."
   ]
  },
  {
   "cell_type": "markdown",
   "id": "4ba51cf3-474d-410d-a668-56d68c4252e8",
   "metadata": {},
   "source": [
    "**Objective:**\n",
    "- populare languages that Data Scientists use\n",
    "- commonly used libraries\n",
    "- demonstrate simple arithmetic expressions"
   ]
  },
  {
   "cell_type": "markdown",
   "id": "dd4a614f-bcdf-49b6-8bf8-0e43e2588d04",
   "metadata": {},
   "source": [
    "Some of the populare languages that Data Scientists use are:\n",
    "- Python\n",
    "- R\n",
    "- Java"
   ]
  },
  {
   "cell_type": "markdown",
   "id": "19ff5642-279c-430c-845a-e2ed4246fa8f",
   "metadata": {},
   "source": [
    "Some of the commonly used libraries used by Data Scientists include: \n",
    "1. NumPy\n",
    "2. Pandas\n",
    "3. TensorFlow"
   ]
  },
  {
   "cell_type": "markdown",
   "id": "4d63ff94-7e3e-4bac-be89-645c37fef1a1",
   "metadata": {},
   "source": [
    "| Data Science Tools|\n",
    "|--------------------|\n",
    "|Jupyter Notebook|\n",
    "|RStudio|\n",
    "|VS Code|"
   ]
  },
  {
   "cell_type": "markdown",
   "id": "89d0a35f-7e22-4dcf-9366-d0e23887906e",
   "metadata": {},
   "source": [
    "### Below are a few examples of evaluation arithmetic expressions in Python"
   ]
  },
  {
   "cell_type": "code",
   "execution_count": 7,
   "id": "b310d953-e97b-46cd-9362-2d93ef5cd664",
   "metadata": {},
   "outputs": [
    {
     "data": {
      "text/plain": [
       "17"
      ]
     },
     "execution_count": 7,
     "metadata": {},
     "output_type": "execute_result"
    }
   ],
   "source": [
    "#This is a simple arithmetic expression to multiply then add integers\n",
    "(3*4)+5"
   ]
  },
  {
   "cell_type": "code",
   "execution_count": 8,
   "id": "846903c7-42ad-471c-a4b2-7a6a0ccb06eb",
   "metadata": {},
   "outputs": [
    {
     "data": {
      "text/plain": [
       "3.3333333333333335"
      ]
     },
     "execution_count": 8,
     "metadata": {},
     "output_type": "execute_result"
    }
   ],
   "source": [
    "# This will convert 200 minutes to hours by diving by 60.\n",
    "200/60"
   ]
  },
  {
   "cell_type": "markdown",
   "id": "2f158f38-24d0-467e-a5bd-4e63ce18ad53",
   "metadata": {
    "jp-MarkdownHeadingCollapsed": true
   },
   "source": [
    "## Author\n",
    "Lisa Grabner"
   ]
  }
 ],
 "metadata": {
  "kernelspec": {
   "display_name": "Python 3 (ipykernel)",
   "language": "python",
   "name": "python3"
  },
  "language_info": {
   "codemirror_mode": {
    "name": "ipython",
    "version": 3
   },
   "file_extension": ".py",
   "mimetype": "text/x-python",
   "name": "python",
   "nbconvert_exporter": "python",
   "pygments_lexer": "ipython3",
   "version": "3.12.8"
  }
 },
 "nbformat": 4,
 "nbformat_minor": 5
}
